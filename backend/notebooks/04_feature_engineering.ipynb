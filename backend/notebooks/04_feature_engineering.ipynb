{
 "cells": [
  {
   "cell_type": "markdown",
   "id": "f9f7964e",
   "metadata": {},
   "source": []
  },
  {
   "cell_type": "code",
   "execution_count": null,
   "id": "44423418",
   "metadata": {},
   "outputs": [],
   "source": [
    "import pandas as pd\n",
    "import numpy as np\n",
    "from sklearn.model_selection import train_test_split\n",
    "from sklearn.preprocessing import OneHotEncoder\n",
    "from sklearn.preprocessing import StandardScaler"
   ]
  },
  {
   "cell_type": "code",
   "execution_count": 42,
   "id": "e027a26d",
   "metadata": {},
   "outputs": [],
   "source": [
    "data = pd.read_csv('../data/raw_data.csv')"
   ]
  },
  {
   "cell_type": "code",
   "execution_count": null,
   "id": "07baf858",
   "metadata": {},
   "outputs": [],
   "source": [
    "data.head()"
   ]
  },
  {
   "cell_type": "code",
   "execution_count": 43,
   "id": "c97188e2",
   "metadata": {},
   "outputs": [],
   "source": [
    "data = data.drop(columns=['name','city'])"
   ]
  },
  {
   "cell_type": "code",
   "execution_count": 44,
   "id": "89926976",
   "metadata": {},
   "outputs": [],
   "source": [
    "X = data.drop(columns=['loan_approved'])\n",
    "y = data[['loan_approved']] # data['loan_approved'] returns pandas.core.series.Series"
   ]
  },
  {
   "cell_type": "code",
   "execution_count": 45,
   "id": "9b7387ac",
   "metadata": {},
   "outputs": [],
   "source": [
    "X_train, X_test, y_train, y_test = train_test_split(\n",
    "    X, y, test_size=0.33, random_state=42) # Returns pandas.core.frame.DataFrames & pandas.core.series.Series"
   ]
  },
  {
   "cell_type": "code",
   "execution_count": null,
   "id": "15583583",
   "metadata": {},
   "outputs": [],
   "source": [
    "scaler = StandardScaler()\n",
    "onehot = OneHotEncoder(sparse_output=False, drop='if_binary') # Avoid sparse matrix and get 2D array."
   ]
  },
  {
   "cell_type": "code",
   "execution_count": 47,
   "id": "86de413f",
   "metadata": {},
   "outputs": [],
   "source": [
    "y_train = pd.DataFrame(y_train)\n",
    "y_test = pd.DataFrame(y_test)"
   ]
  },
  {
   "cell_type": "code",
   "execution_count": 48,
   "id": "a320fde3",
   "metadata": {},
   "outputs": [],
   "source": [
    "X_train = scaler.fit_transform(X_train) # Returns np.array\n",
    "X_test = scaler.transform(X_test) # Returns np.array\n",
    "\n",
    "y_train = onehot.fit_transform(y_train) # Expected pd.Dataframe not Series\n",
    "y_test = onehot.transform(y_test) # Expected pd.Dataframe not Series"
   ]
  },
  {
   "cell_type": "code",
   "execution_count": 49,
   "id": "fd1d6d55",
   "metadata": {},
   "outputs": [
    {
     "data": {
      "text/plain": [
       "(numpy.ndarray, numpy.ndarray, numpy.ndarray, numpy.ndarray)"
      ]
     },
     "execution_count": 49,
     "metadata": {},
     "output_type": "execute_result"
    }
   ],
   "source": [
    "type(X_train), type(X_test), type(y_train), type(y_train) # All of them numpy.ndarrays"
   ]
  },
  {
   "cell_type": "code",
   "execution_count": 50,
   "id": "4d080730",
   "metadata": {},
   "outputs": [
    {
     "data": {
      "text/plain": [
       "array([[1.],\n",
       "       [0.],\n",
       "       [1.],\n",
       "       ...,\n",
       "       [0.],\n",
       "       [1.],\n",
       "       [0.]], shape=(1340, 1))"
      ]
     },
     "execution_count": 50,
     "metadata": {},
     "output_type": "execute_result"
    }
   ],
   "source": [
    "y_train"
   ]
  },
  {
   "cell_type": "code",
   "execution_count": 51,
   "id": "b308109a",
   "metadata": {},
   "outputs": [],
   "source": [
    "X_train = pd.DataFrame(X_train, columns=['income', 'credit_score', 'loan_amount', 'years_employed', 'points'])\n",
    "X_test = pd.DataFrame(X_test, columns=['income', 'credit_score', 'loan_amount', 'years_employed', 'points'])\n",
    "y_train = pd.DataFrame(y_train, columns=['loan_approved'])\n",
    "y_test = pd.DataFrame(y_test, columns=['loan_approved'])"
   ]
  },
  {
   "cell_type": "code",
   "execution_count": 52,
   "id": "3bf0a8d4",
   "metadata": {},
   "outputs": [
    {
     "data": {
      "text/plain": [
       "(pandas.core.frame.DataFrame,\n",
       " pandas.core.frame.DataFrame,\n",
       " pandas.core.frame.DataFrame,\n",
       " pandas.core.frame.DataFrame)"
      ]
     },
     "execution_count": 52,
     "metadata": {},
     "output_type": "execute_result"
    }
   ],
   "source": [
    "type(X_train), type(X_test), type(y_train), type(y_train)"
   ]
  },
  {
   "cell_type": "code",
   "execution_count": 53,
   "id": "8047c965",
   "metadata": {},
   "outputs": [],
   "source": [
    "# axis=1 means concat columns\n",
    "train = pd.concat([X_train, y_train], ignore_index=True, axis=1)\n",
    "test = pd.concat([X_test, y_test], ignore_index=True, axis=1)"
   ]
  },
  {
   "cell_type": "code",
   "execution_count": 59,
   "id": "0310af82",
   "metadata": {},
   "outputs": [],
   "source": [
    "# In order to keep the original columns name then:\n",
    "train.columns = data.columns\n",
    "test.columns = data.columns"
   ]
  },
  {
   "cell_type": "code",
   "execution_count": 60,
   "id": "c2577926",
   "metadata": {},
   "outputs": [
    {
     "data": {
      "text/html": [
       "<div>\n",
       "<style scoped>\n",
       "    .dataframe tbody tr th:only-of-type {\n",
       "        vertical-align: middle;\n",
       "    }\n",
       "\n",
       "    .dataframe tbody tr th {\n",
       "        vertical-align: top;\n",
       "    }\n",
       "\n",
       "    .dataframe thead th {\n",
       "        text-align: right;\n",
       "    }\n",
       "</style>\n",
       "<table border=\"1\" class=\"dataframe\">\n",
       "  <thead>\n",
       "    <tr style=\"text-align: right;\">\n",
       "      <th></th>\n",
       "      <th>income</th>\n",
       "      <th>credit_score</th>\n",
       "      <th>loan_amount</th>\n",
       "      <th>years_employed</th>\n",
       "      <th>points</th>\n",
       "      <th>loan_approved</th>\n",
       "    </tr>\n",
       "  </thead>\n",
       "  <tbody>\n",
       "    <tr>\n",
       "      <th>0</th>\n",
       "      <td>-0.868786</td>\n",
       "      <td>1.272426</td>\n",
       "      <td>-0.398622</td>\n",
       "      <td>-1.558591</td>\n",
       "      <td>0.453156</td>\n",
       "      <td>1.0</td>\n",
       "    </tr>\n",
       "    <tr>\n",
       "      <th>1</th>\n",
       "      <td>0.630376</td>\n",
       "      <td>-0.139933</td>\n",
       "      <td>0.692489</td>\n",
       "      <td>0.038773</td>\n",
       "      <td>-0.344081</td>\n",
       "      <td>0.0</td>\n",
       "    </tr>\n",
       "    <tr>\n",
       "      <th>2</th>\n",
       "      <td>0.416243</td>\n",
       "      <td>-0.016583</td>\n",
       "      <td>-1.200687</td>\n",
       "      <td>0.459133</td>\n",
       "      <td>0.187410</td>\n",
       "      <td>1.0</td>\n",
       "    </tr>\n",
       "    <tr>\n",
       "      <th>3</th>\n",
       "      <td>-0.210580</td>\n",
       "      <td>-0.670339</td>\n",
       "      <td>0.908299</td>\n",
       "      <td>-0.633801</td>\n",
       "      <td>-0.875573</td>\n",
       "      <td>0.0</td>\n",
       "    </tr>\n",
       "    <tr>\n",
       "      <th>4</th>\n",
       "      <td>-0.437968</td>\n",
       "      <td>1.642477</td>\n",
       "      <td>1.059245</td>\n",
       "      <td>0.206917</td>\n",
       "      <td>0.984648</td>\n",
       "      <td>1.0</td>\n",
       "    </tr>\n",
       "  </tbody>\n",
       "</table>\n",
       "</div>"
      ],
      "text/plain": [
       "     income  credit_score  loan_amount  years_employed    points  \\\n",
       "0 -0.868786      1.272426    -0.398622       -1.558591  0.453156   \n",
       "1  0.630376     -0.139933     0.692489        0.038773 -0.344081   \n",
       "2  0.416243     -0.016583    -1.200687        0.459133  0.187410   \n",
       "3 -0.210580     -0.670339     0.908299       -0.633801 -0.875573   \n",
       "4 -0.437968      1.642477     1.059245        0.206917  0.984648   \n",
       "\n",
       "   loan_approved  \n",
       "0            1.0  \n",
       "1            0.0  \n",
       "2            1.0  \n",
       "3            0.0  \n",
       "4            1.0  "
      ]
     },
     "execution_count": 60,
     "metadata": {},
     "output_type": "execute_result"
    }
   ],
   "source": [
    "train.head()"
   ]
  },
  {
   "cell_type": "code",
   "execution_count": 61,
   "id": "6db6d09f",
   "metadata": {},
   "outputs": [
    {
     "data": {
      "text/html": [
       "<div>\n",
       "<style scoped>\n",
       "    .dataframe tbody tr th:only-of-type {\n",
       "        vertical-align: middle;\n",
       "    }\n",
       "\n",
       "    .dataframe tbody tr th {\n",
       "        vertical-align: top;\n",
       "    }\n",
       "\n",
       "    .dataframe thead th {\n",
       "        text-align: right;\n",
       "    }\n",
       "</style>\n",
       "<table border=\"1\" class=\"dataframe\">\n",
       "  <thead>\n",
       "    <tr style=\"text-align: right;\">\n",
       "      <th></th>\n",
       "      <th>income</th>\n",
       "      <th>credit_score</th>\n",
       "      <th>loan_amount</th>\n",
       "      <th>years_employed</th>\n",
       "      <th>points</th>\n",
       "      <th>loan_approved</th>\n",
       "    </tr>\n",
       "  </thead>\n",
       "  <tbody>\n",
       "    <tr>\n",
       "      <th>0</th>\n",
       "      <td>1.173612</td>\n",
       "      <td>-0.787522</td>\n",
       "      <td>-0.653463</td>\n",
       "      <td>-0.886017</td>\n",
       "      <td>-0.078336</td>\n",
       "      <td>0.0</td>\n",
       "    </tr>\n",
       "    <tr>\n",
       "      <th>1</th>\n",
       "      <td>-1.037615</td>\n",
       "      <td>1.438949</td>\n",
       "      <td>-1.099063</td>\n",
       "      <td>0.038773</td>\n",
       "      <td>1.516140</td>\n",
       "      <td>1.0</td>\n",
       "    </tr>\n",
       "    <tr>\n",
       "      <th>2</th>\n",
       "      <td>0.455456</td>\n",
       "      <td>0.760523</td>\n",
       "      <td>0.458796</td>\n",
       "      <td>1.215779</td>\n",
       "      <td>0.984648</td>\n",
       "      <td>1.0</td>\n",
       "    </tr>\n",
       "    <tr>\n",
       "      <th>3</th>\n",
       "      <td>-0.457342</td>\n",
       "      <td>0.452148</td>\n",
       "      <td>-1.353833</td>\n",
       "      <td>-0.045298</td>\n",
       "      <td>0.453156</td>\n",
       "      <td>1.0</td>\n",
       "    </tr>\n",
       "    <tr>\n",
       "      <th>4</th>\n",
       "      <td>-1.463706</td>\n",
       "      <td>1.401944</td>\n",
       "      <td>-0.944994</td>\n",
       "      <td>0.795420</td>\n",
       "      <td>0.718902</td>\n",
       "      <td>1.0</td>\n",
       "    </tr>\n",
       "  </tbody>\n",
       "</table>\n",
       "</div>"
      ],
      "text/plain": [
       "     income  credit_score  loan_amount  years_employed    points  \\\n",
       "0  1.173612     -0.787522    -0.653463       -0.886017 -0.078336   \n",
       "1 -1.037615      1.438949    -1.099063        0.038773  1.516140   \n",
       "2  0.455456      0.760523     0.458796        1.215779  0.984648   \n",
       "3 -0.457342      0.452148    -1.353833       -0.045298  0.453156   \n",
       "4 -1.463706      1.401944    -0.944994        0.795420  0.718902   \n",
       "\n",
       "   loan_approved  \n",
       "0            0.0  \n",
       "1            1.0  \n",
       "2            1.0  \n",
       "3            1.0  \n",
       "4            1.0  "
      ]
     },
     "execution_count": 61,
     "metadata": {},
     "output_type": "execute_result"
    }
   ],
   "source": [
    "test.head()"
   ]
  },
  {
   "cell_type": "code",
   "execution_count": 62,
   "id": "3e33f465",
   "metadata": {},
   "outputs": [],
   "source": [
    "# index=False prevents writing the DataFrame index as a column in the CSV\n",
    "train.to_csv('../data/train.csv', index=False)\n",
    "test.to_csv('../data/test.csv', index=False)"
   ]
  }
 ],
 "metadata": {
  "kernelspec": {
   "display_name": "venv",
   "language": "python",
   "name": "python3"
  },
  "language_info": {
   "codemirror_mode": {
    "name": "ipython",
    "version": 3
   },
   "file_extension": ".py",
   "mimetype": "text/x-python",
   "name": "python",
   "nbconvert_exporter": "python",
   "pygments_lexer": "ipython3",
   "version": "3.13.5"
  }
 },
 "nbformat": 4,
 "nbformat_minor": 5
}
