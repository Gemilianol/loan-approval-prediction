{
 "cells": [
  {
   "cell_type": "markdown",
   "id": "f9f7964e",
   "metadata": {},
   "source": []
  },
  {
   "cell_type": "code",
   "execution_count": null,
   "id": "44423418",
   "metadata": {},
   "outputs": [],
   "source": [
    "import pandas as pd\n",
    "import numpy as np\n",
    "from sklearn.model_selection import train_test_split\n",
    "from sklearn.preprocessing import OneHotEncoder\n",
    "from sklearn.preprocessing import StandardScaler"
   ]
  },
  {
   "cell_type": "code",
   "execution_count": 42,
   "id": "e027a26d",
   "metadata": {},
   "outputs": [],
   "source": [
    "data = pd.read_csv('../data/raw_data.csv')"
   ]
  },
  {
   "cell_type": "code",
   "execution_count": null,
   "id": "07baf858",
   "metadata": {},
   "outputs": [],
   "source": [
    "data.head()"
   ]
  },
  {
   "cell_type": "code",
   "execution_count": 43,
   "id": "c97188e2",
   "metadata": {},
   "outputs": [],
   "source": [
    "data = data.drop(columns=['name','city'])"
   ]
  },
  {
   "cell_type": "code",
   "execution_count": 44,
   "id": "89926976",
   "metadata": {},
   "outputs": [],
   "source": [
    "X = data.drop(columns=['loan_approved'])\n",
    "y = data[['loan_approved']] # data['loan_approved'] returns pandas.core.series.Series"
   ]
  },
  {
   "cell_type": "code",
   "execution_count": 45,
   "id": "9b7387ac",
   "metadata": {},
   "outputs": [],
   "source": [
    "X_train, X_test, y_train, y_test = train_test_split(\n",
    "    X, y, test_size=0.33, random_state=42) # Returns pandas.core.frame.DataFrames & pandas.core.series.Series"
   ]
  },
  {
   "cell_type": "code",
   "execution_count": null,
   "id": "15583583",
   "metadata": {},
   "outputs": [],
   "source": [
    "scaler = StandardScaler()\n",
    "onehot = OneHotEncoder(sparse_output=False, drop='if_binary') # Avoid sparse matrix and get 2D array."
   ]
  },
  {
   "cell_type": "code",
   "execution_count": null,
   "id": "86de413f",
   "metadata": {},
   "outputs": [],
   "source": [
    "# OHE expected pd.Dataframe not Series so:\n",
    "y_train = pd.DataFrame(y_train)\n",
    "y_test = pd.DataFrame(y_test)"
   ]
  },
  {
   "cell_type": "code",
   "execution_count": null,
   "id": "a320fde3",
   "metadata": {},
   "outputs": [],
   "source": [
    "X_train = scaler.fit_transform(X_train) # Returns np.array\n",
    "X_test = scaler.transform(X_test) # Returns np.array\n",
    "\n",
    "y_train = onehot.fit_transform(y_train) # Returns np.array\n",
    "y_test = onehot.transform(y_test) # Returns np.array"
   ]
  },
  {
   "cell_type": "code",
   "execution_count": 51,
   "id": "b308109a",
   "metadata": {},
   "outputs": [],
   "source": [
    "X_train = pd.DataFrame(X_train, columns=['income', 'credit_score', 'loan_amount', 'years_employed', 'points'])\n",
    "X_test = pd.DataFrame(X_test, columns=['income', 'credit_score', 'loan_amount', 'years_employed', 'points'])\n",
    "y_train = pd.DataFrame(y_train, columns=['loan_approved'])\n",
    "y_test = pd.DataFrame(y_test, columns=['loan_approved'])"
   ]
  },
  {
   "cell_type": "code",
   "execution_count": 53,
   "id": "8047c965",
   "metadata": {},
   "outputs": [],
   "source": [
    "# axis=1 means concat columns\n",
    "train = pd.concat([X_train, y_train], ignore_index=True, axis=1)\n",
    "test = pd.concat([X_test, y_test], ignore_index=True, axis=1)"
   ]
  },
  {
   "cell_type": "code",
   "execution_count": null,
   "id": "0310af82",
   "metadata": {},
   "outputs": [],
   "source": [
    "# In order to keep the original columns' names then:\n",
    "train.columns = data.columns\n",
    "test.columns = data.columns"
   ]
  },
  {
   "cell_type": "code",
   "execution_count": 62,
   "id": "3e33f465",
   "metadata": {},
   "outputs": [],
   "source": [
    "# index=False prevents writing the DataFrame index as a column in the CSV\n",
    "train.to_csv('../data/train.csv', index=False)\n",
    "test.to_csv('../data/test.csv', index=False)"
   ]
  }
 ],
 "metadata": {
  "kernelspec": {
   "display_name": "venv",
   "language": "python",
   "name": "python3"
  },
  "language_info": {
   "codemirror_mode": {
    "name": "ipython",
    "version": 3
   },
   "file_extension": ".py",
   "mimetype": "text/x-python",
   "name": "python",
   "nbconvert_exporter": "python",
   "pygments_lexer": "ipython3",
   "version": "3.13.5"
  }
 },
 "nbformat": 4,
 "nbformat_minor": 5
}
