{
 "cells": [
  {
   "cell_type": "markdown",
   "id": "026a76eb",
   "metadata": {},
   "source": []
  },
  {
   "cell_type": "code",
   "execution_count": 1,
   "id": "b4a6414b",
   "metadata": {},
   "outputs": [],
   "source": [
    "import pandas as pd\n",
    "import numpy as np\n",
    "from sklearn import linear_model\n",
    "from sklearn.linear_model import ElasticNet, LogisticRegression, RidgeClassifier\n",
    "from sklearn.tree import DecisionTreeClassifier\n",
    "from sklearn.ensemble import AdaBoostClassifier\n",
    "import xgboost as xgb\n",
    "from sklearn.metrics import accuracy_score, f1_score, roc_auc_score"
   ]
  },
  {
   "cell_type": "code",
   "execution_count": 2,
   "id": "75d3ee45",
   "metadata": {},
   "outputs": [],
   "source": [
    "train = pd.read_csv('../data/train.csv')\n",
    "test = pd.read_csv('../data/test.csv')"
   ]
  },
  {
   "cell_type": "code",
   "execution_count": 3,
   "id": "d5e17be7",
   "metadata": {},
   "outputs": [],
   "source": [
    "X_train, X_test = train.drop(columns=['loan_approved']), test.drop(columns=['loan_approved']) \n",
    "y_train, y_test = train['loan_approved'], test['loan_approved']"
   ]
  },
  {
   "cell_type": "code",
   "execution_count": 4,
   "id": "ce7aae10",
   "metadata": {},
   "outputs": [
    {
     "data": {
      "text/html": [
       "<div>\n",
       "<style scoped>\n",
       "    .dataframe tbody tr th:only-of-type {\n",
       "        vertical-align: middle;\n",
       "    }\n",
       "\n",
       "    .dataframe tbody tr th {\n",
       "        vertical-align: top;\n",
       "    }\n",
       "\n",
       "    .dataframe thead th {\n",
       "        text-align: right;\n",
       "    }\n",
       "</style>\n",
       "<table border=\"1\" class=\"dataframe\">\n",
       "  <thead>\n",
       "    <tr style=\"text-align: right;\">\n",
       "      <th></th>\n",
       "      <th>income</th>\n",
       "      <th>credit_score</th>\n",
       "      <th>loan_amount</th>\n",
       "      <th>years_employed</th>\n",
       "      <th>points</th>\n",
       "    </tr>\n",
       "  </thead>\n",
       "  <tbody>\n",
       "    <tr>\n",
       "      <th>0</th>\n",
       "      <td>-0.868786</td>\n",
       "      <td>1.272426</td>\n",
       "      <td>-0.398622</td>\n",
       "      <td>-1.558591</td>\n",
       "      <td>0.453156</td>\n",
       "    </tr>\n",
       "    <tr>\n",
       "      <th>1</th>\n",
       "      <td>0.630376</td>\n",
       "      <td>-0.139933</td>\n",
       "      <td>0.692489</td>\n",
       "      <td>0.038773</td>\n",
       "      <td>-0.344081</td>\n",
       "    </tr>\n",
       "    <tr>\n",
       "      <th>2</th>\n",
       "      <td>0.416243</td>\n",
       "      <td>-0.016583</td>\n",
       "      <td>-1.200687</td>\n",
       "      <td>0.459133</td>\n",
       "      <td>0.187410</td>\n",
       "    </tr>\n",
       "    <tr>\n",
       "      <th>3</th>\n",
       "      <td>-0.210580</td>\n",
       "      <td>-0.670339</td>\n",
       "      <td>0.908299</td>\n",
       "      <td>-0.633801</td>\n",
       "      <td>-0.875573</td>\n",
       "    </tr>\n",
       "    <tr>\n",
       "      <th>4</th>\n",
       "      <td>-0.437968</td>\n",
       "      <td>1.642477</td>\n",
       "      <td>1.059245</td>\n",
       "      <td>0.206917</td>\n",
       "      <td>0.984648</td>\n",
       "    </tr>\n",
       "  </tbody>\n",
       "</table>\n",
       "</div>"
      ],
      "text/plain": [
       "     income  credit_score  loan_amount  years_employed    points\n",
       "0 -0.868786      1.272426    -0.398622       -1.558591  0.453156\n",
       "1  0.630376     -0.139933     0.692489        0.038773 -0.344081\n",
       "2  0.416243     -0.016583    -1.200687        0.459133  0.187410\n",
       "3 -0.210580     -0.670339     0.908299       -0.633801 -0.875573\n",
       "4 -0.437968      1.642477     1.059245        0.206917  0.984648"
      ]
     },
     "execution_count": 4,
     "metadata": {},
     "output_type": "execute_result"
    }
   ],
   "source": [
    "X_train.head()"
   ]
  },
  {
   "cell_type": "code",
   "execution_count": 5,
   "id": "d26e5911",
   "metadata": {},
   "outputs": [
    {
     "data": {
      "text/plain": [
       "0    1.0\n",
       "1    0.0\n",
       "2    1.0\n",
       "3    0.0\n",
       "4    1.0\n",
       "Name: loan_approved, dtype: float64"
      ]
     },
     "execution_count": 5,
     "metadata": {},
     "output_type": "execute_result"
    }
   ],
   "source": [
    "y_train.head()"
   ]
  },
  {
   "cell_type": "code",
   "execution_count": 6,
   "id": "d9ec3f72",
   "metadata": {},
   "outputs": [],
   "source": [
    "lr = LogisticRegression(random_state=0).fit(X_train, y_train)\n",
    "preds = lr.predict(X_test) # Here returns the predictions."
   ]
  },
  {
   "cell_type": "code",
   "execution_count": 7,
   "id": "551d19e9",
   "metadata": {},
   "outputs": [
    {
     "name": "stdout",
     "output_type": "stream",
     "text": [
      "Accuracy of Logistic Regression: 1.0\n"
     ]
    }
   ],
   "source": [
    "accuracy = accuracy_score(y_test, preds) # Measures the proportion of correctly classified instances\n",
    "print(f\"Accuracy of Logistic Regression: {np.round(accuracy, 2)}\")"
   ]
  },
  {
   "cell_type": "code",
   "execution_count": 8,
   "id": "9b5566c3",
   "metadata": {},
   "outputs": [
    {
     "name": "stdout",
     "output_type": "stream",
     "text": [
      "F1 Score of Logistic Regression: 1.0\n"
     ]
    }
   ],
   "source": [
    "f1 = f1_score(y_test, preds) # Harmonic mean of precision and recall\n",
    "print(f\"F1 Score of Logistic Regression: {np.round(f1,2)}\")"
   ]
  },
  {
   "cell_type": "code",
   "execution_count": 9,
   "id": "6f674429",
   "metadata": {},
   "outputs": [
    {
     "name": "stdout",
     "output_type": "stream",
     "text": [
      "AUC of Logistic Regression: 1.0\n"
     ]
    }
   ],
   "source": [
    "roc_auc = roc_auc_score(y_test, preds) # Evaluates the performance of a binary classifier across various classification thresholds\n",
    "print(f\"AUC of Logistic Regression: {np.round(roc_auc,2)}\")"
   ]
  },
  {
   "cell_type": "code",
   "execution_count": 10,
   "id": "35a92003",
   "metadata": {},
   "outputs": [],
   "source": [
    "rc = RidgeClassifier()\n",
    "rc.fit(X_train, y_train)\n",
    "preds= rc.predict(X_test) # Here you get the predictions too."
   ]
  },
  {
   "cell_type": "code",
   "execution_count": 11,
   "id": "85e5c262",
   "metadata": {},
   "outputs": [
    {
     "name": "stdout",
     "output_type": "stream",
     "text": [
      "Accuracy of RidgeClassifier: 0.95\n"
     ]
    }
   ],
   "source": [
    "accuracy = accuracy_score(y_test, preds) \n",
    "print(f\"Accuracy of RidgeClassifier: {np.round(accuracy,2)}\")"
   ]
  },
  {
   "cell_type": "code",
   "execution_count": 12,
   "id": "5b6d11a9",
   "metadata": {},
   "outputs": [
    {
     "name": "stdout",
     "output_type": "stream",
     "text": [
      "F1 Score of RidgeClassifier: 0.94\n"
     ]
    }
   ],
   "source": [
    "f1 = f1_score(y_test, preds) \n",
    "print(f\"F1 Score of RidgeClassifier: {np.round(f1,2)}\")"
   ]
  },
  {
   "cell_type": "code",
   "execution_count": 13,
   "id": "c0e6a02a",
   "metadata": {},
   "outputs": [
    {
     "name": "stdout",
     "output_type": "stream",
     "text": [
      "AUC of RidgeClassifier: 0.94\n"
     ]
    }
   ],
   "source": [
    "roc_auc = roc_auc_score(y_test, preds)\n",
    "print(f\"AUC of RidgeClassifier: {np.round(roc_auc,2)}\")"
   ]
  },
  {
   "cell_type": "code",
   "execution_count": 14,
   "id": "599b58ab",
   "metadata": {},
   "outputs": [],
   "source": [
    "rf = DecisionTreeClassifier(random_state=0)\n",
    "rf.fit(X_train, y_train)\n",
    "preds=rf.predict(X_test)"
   ]
  },
  {
   "cell_type": "code",
   "execution_count": 15,
   "id": "7fb6e61f",
   "metadata": {},
   "outputs": [
    {
     "name": "stdout",
     "output_type": "stream",
     "text": [
      "Accuracy of DecisionTreeClassifier: 1.0\n"
     ]
    }
   ],
   "source": [
    "accuracy = accuracy_score(y_test, preds) \n",
    "print(f\"Accuracy of DecisionTreeClassifier: {np.round(accuracy,2)}\")"
   ]
  },
  {
   "cell_type": "code",
   "execution_count": 16,
   "id": "5ccfc417",
   "metadata": {},
   "outputs": [
    {
     "name": "stdout",
     "output_type": "stream",
     "text": [
      "F1 Score of DecisionTreeClassifier: 1.0\n"
     ]
    }
   ],
   "source": [
    "f1 = f1_score(y_test, preds) \n",
    "print(f\"F1 Score of DecisionTreeClassifier: {np.round(f1,2)}\")"
   ]
  },
  {
   "cell_type": "code",
   "execution_count": 17,
   "id": "0e451679",
   "metadata": {},
   "outputs": [
    {
     "name": "stdout",
     "output_type": "stream",
     "text": [
      "AUC of DecisionTreeClassifier: 1.0\n"
     ]
    }
   ],
   "source": [
    "roc_auc = roc_auc_score(y_test, preds)\n",
    "print(f\"AUC of DecisionTreeClassifier: {np.round(roc_auc,2)}\")"
   ]
  },
  {
   "cell_type": "code",
   "execution_count": 18,
   "id": "c6f66bef",
   "metadata": {},
   "outputs": [],
   "source": [
    "ab = AdaBoostClassifier(n_estimators=100, random_state=0)\n",
    "ab.fit(X_train, y_train)\n",
    "preds = ab.predict(X_test)"
   ]
  },
  {
   "cell_type": "code",
   "execution_count": 19,
   "id": "09de9612",
   "metadata": {},
   "outputs": [
    {
     "name": "stdout",
     "output_type": "stream",
     "text": [
      "Accuracy of AdaBoostClassifier: 1.0\n"
     ]
    }
   ],
   "source": [
    "accuracy = accuracy_score(y_test, preds) \n",
    "print(f\"Accuracy of AdaBoostClassifier: {np.round(accuracy,2)}\")"
   ]
  },
  {
   "cell_type": "code",
   "execution_count": 20,
   "id": "1df7ec95",
   "metadata": {},
   "outputs": [
    {
     "name": "stdout",
     "output_type": "stream",
     "text": [
      "F1 Score of AdaBoostClassifier: 1.0\n"
     ]
    }
   ],
   "source": [
    "f1 = f1_score(y_test, preds) \n",
    "print(f\"F1 Score of AdaBoostClassifier: {np.round(f1,2)}\")"
   ]
  },
  {
   "cell_type": "code",
   "execution_count": 21,
   "id": "510860bc",
   "metadata": {},
   "outputs": [
    {
     "name": "stdout",
     "output_type": "stream",
     "text": [
      "AUC of AdaBoostClassifier: 1.0\n"
     ]
    }
   ],
   "source": [
    "roc_auc = roc_auc_score(y_test, preds)\n",
    "print(f\"AUC of AdaBoostClassifier: {np.round(roc_auc,2)}\")"
   ]
  },
  {
   "cell_type": "code",
   "execution_count": null,
   "id": "f561a2e4",
   "metadata": {},
   "outputs": [],
   "source": [
    "clf = xgb.XGBClassifier(n_estimators=2, max_depth=2, learning_rate=1, objective='binary:logistic')\n",
    "clf.fit(X_train, y_train)\n",
    "preds = clf.predict(X_test)"
   ]
  },
  {
   "cell_type": "code",
   "execution_count": 27,
   "id": "1f87e7a2",
   "metadata": {},
   "outputs": [
    {
     "name": "stdout",
     "output_type": "stream",
     "text": [
      "Accuracy of XGBClassifier: 1.0\n"
     ]
    }
   ],
   "source": [
    "accuracy = accuracy_score(y_test, preds) \n",
    "print(f\"Accuracy of XGBClassifier: {np.round(accuracy,2)}\")"
   ]
  },
  {
   "cell_type": "code",
   "execution_count": 28,
   "id": "c765821e",
   "metadata": {},
   "outputs": [
    {
     "name": "stdout",
     "output_type": "stream",
     "text": [
      "F1 Score of XGBClassifier: 1.0\n"
     ]
    }
   ],
   "source": [
    "f1 = f1_score(y_test, preds) \n",
    "print(f\"F1 Score of XGBClassifier: {np.round(f1,2)}\")"
   ]
  },
  {
   "cell_type": "code",
   "execution_count": 29,
   "id": "3a585443",
   "metadata": {},
   "outputs": [
    {
     "name": "stdout",
     "output_type": "stream",
     "text": [
      "AUC of XGBClassifier: 1.0\n"
     ]
    }
   ],
   "source": [
    "roc_auc = roc_auc_score(y_test, preds)\n",
    "print(f\"AUC of XGBClassifier: {np.round(roc_auc,2)}\")"
   ]
  }
 ],
 "metadata": {
  "kernelspec": {
   "display_name": "venv",
   "language": "python",
   "name": "python3"
  },
  "language_info": {
   "codemirror_mode": {
    "name": "ipython",
    "version": 3
   },
   "file_extension": ".py",
   "mimetype": "text/x-python",
   "name": "python",
   "nbconvert_exporter": "python",
   "pygments_lexer": "ipython3",
   "version": "3.13.5"
  }
 },
 "nbformat": 4,
 "nbformat_minor": 5
}
